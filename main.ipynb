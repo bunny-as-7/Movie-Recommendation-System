{
 "cells": [
  {
   "cell_type": "markdown",
   "metadata": {},
   "source": [
    "# Recommendations on GCP with TensorFlow and WALS with Cloud   Composer "
   ]
  },
  {
   "cell_type": "code",
   "execution_count": null,
   "metadata": {},
   "outputs": [],
   "source": [
    "%%bash\n",
    "pip install sh --upgrade pip # needed to execute shell scripts later"
   ]
  },
  {
   "cell_type": "code",
   "execution_count": null,
   "metadata": {},
   "outputs": [],
   "source": [
    "import os\n",
    "PROJECT = 'PROJECT' # REPLACE WITH YOUR PROJECT ID\n",
    "REGION = 'us-central1' \n",
    "\n",
    "# do not change these\n",
    "os.environ['PROJECT'] = PROJECT\n",
    "os.environ['BUCKET'] = 'recserve_' + PROJECT\n",
    "os.environ['REGION'] = REGION"
   ]
  },
  {
   "cell_type": "code",
   "execution_count": null,
   "metadata": {},
   "outputs": [],
   "source": [
    "# setting the env variable on GCP\n",
    "%%bash\n",
    "\n",
    "gcloud config set project $PROJECT\n",
    "gcloud config set compute/region $REGION"
   ]
  },
  {
   "cell_type": "code",
   "execution_count": null,
   "metadata": {},
   "outputs": [],
   "source": [
    "\n",
    "%%bash\n",
    "\n",
    "# create GCS bucket with recserve_PROJECT_NAME if not exists\n",
    "exists=$(gsutil ls -d | grep -w gs://${BUCKET}/)\n",
    "if [ -n \"$exists\" ]; then\n",
    "   echo \"Not creating recserve_bucket since it already exists.\"\n",
    "else\n",
    "   echo \"Creating recserve_bucket\"\n",
    "   gsutil mb -l ${REGION} gs://${BUCKET}\n",
    "fi"
   ]
  },
  {
   "cell_type": "code",
   "execution_count": null,
   "metadata": {},
   "outputs": [],
   "source": [
    "# run this code only when we have not created the ML Engine\n",
    "# for creating the ML engine\n",
    "%%bash\n",
    "run app engine creation commands\n",
    "gcloud app create --region ${REGION} # see: https://cloud.google.com/compute/docs/regions-zones/\n",
    "gcloud app update --no-split-health-checks"
   ]
  },
  {
   "cell_type": "code",
   "execution_count": null,
   "metadata": {},
   "outputs": [],
   "source": [
    "# Copy sample data files into our bucket\n",
    "%%bash\n",
    "\n",
    "gsutil -m cp gs://cloud-training-demos/courses/machine_learning/deepdive/10_recommendation/endtoend/data/ga_sessions_sample.json.gz gs://${BUCKET}/data/ga_sessions_sample.json.gz\n",
    "gsutil -m cp gs://cloud-training-demos/courses/machine_learning/deepdive/10_recommendation/endtoend/data/recommendation_events.csv data/recommendation_events.csv\n",
    "gsutil -m cp gs://cloud-training-demos/courses/machine_learning/deepdive/10_recommendation/endtoend/data/recommendation_events.csv gs://${BUCKET}/data/recommendation_events.csv"
   ]
  },
  {
   "cell_type": "markdown",
   "metadata": {},
   "source": [
    "\n",
    " Create empty BigQuery dataset and load sample JSON data"
   ]
  },
  {
   "cell_type": "code",
   "execution_count": null,
   "metadata": {},
   "outputs": [],
   "source": [
    "%%bash\n",
    "\n",
    "# create BigQuery dataset if it doesn't already exist\n",
    "exists=$(bq ls -d | grep -w GA360_test)\n",
    "if [ -n \"$exists\" ]; then\n",
    "   echo \"Not creating GA360_test since it already exists.\"\n",
    "else\n",
    "   echo \"Creating GA360_test dataset.\"\n",
    "   bq --project_id=${PROJECT} mk GA360_test \n",
    "fi\n",
    "\n",
    "# create the schema and load our sample Google Analytics session data\n",
    "bq load --source_format=NEWLINE_DELIMITED_JSON \\\n",
    " GA360_test.ga_sessions_sample \\\n",
    " gs://${BUCKET}/data/ga_sessions_sample.json.gz \\\n",
    " data/ga_sessions_sample_schema.json # can't load schema files from GCS\n",
    " \n",
    "# this can take upto 10 minutes... "
   ]
  },
  {
   "cell_type": "markdown",
   "metadata": {},
   "source": [
    "### Install WALS model training package and model data\n",
    "1. Create a distributable package. Copy the package up to the code folder in the bucket you created previously"
   ]
  },
  {
   "cell_type": "code",
   "execution_count": null,
   "metadata": {},
   "outputs": [],
   "source": [
    "\n",
    "%%bash\n",
    "\n",
    "cd wals_ml_engine\n",
    "\n",
    "echo \"creating distributable package\"\n",
    "python setup.py sdist\n",
    "\n",
    "echo \"copying ML package to bucket\"\n",
    "gsutil cp dist/wals_ml_engine-0.1.tar.gz gs://${BUCKET}/code/"
   ]
  },
  {
   "cell_type": "markdown",
   "metadata": {},
   "source": [
    "2. Run the WALS model on the sample data set:"
   ]
  },
  {
   "cell_type": "code",
   "execution_count": null,
   "metadata": {},
   "outputs": [],
   "source": [
    "\n",
    "%%bash\n",
    "\n",
    "# view the ML train local script before running\n",
    "cat wals_ml_engine/mltrain.sh"
   ]
  },
  {
   "cell_type": "code",
   "execution_count": null,
   "metadata": {},
   "outputs": [],
   "source": [
    "%%bash\n",
    "\n",
    "cd WALS_ML_Engine\n",
    "\n",
    "# train locally with unoptimized hyperparams\n",
    "./mltrain.sh local ../data/recommendation_events.csv --data-type web_views --use-optimized"
   ]
  },
  {
   "cell_type": "code",
   "execution_count": null,
   "metadata": {},
   "outputs": [],
   "source": [
    "# View the locally trained model directory\n",
    "ls wals_ml_engine/jobs"
   ]
  },
  {
   "cell_type": "markdown",
   "metadata": {},
   "source": [
    "3. Copy the model files from this directory to the model folder in the project bucket:"
   ]
  },
  {
   "cell_type": "code",
   "execution_count": null,
   "metadata": {},
   "outputs": [],
   "source": [
    "%%bash\n",
    "export JOB_MODEL=$(find wals_ml_engine/jobs -name \"model\" | tail -1)\n",
    "gsutil cp ${JOB_MODEL}/* gs://${BUCKET}/model/\n",
    "  \n",
    "echo \"Recommendation model file numpy arrays in bucket:\"  \n",
    "gsutil ls gs://${BUCKET}/model/"
   ]
  },
  {
   "cell_type": "markdown",
   "metadata": {},
   "source": [
    "### Install the recserve endpoint"
   ]
  },
  {
   "cell_type": "markdown",
   "metadata": {},
   "source": [
    "\n",
    "1. Prepare the deploy template for the Cloud Endpoint API:"
   ]
  },
  {
   "cell_type": "code",
   "execution_count": null,
   "metadata": {},
   "outputs": [],
   "source": [
    "%%bash\n",
    "cd scripts\n",
    "cat prepare_deploy_api.sh"
   ]
  },
  {
   "cell_type": "code",
   "execution_count": null,
   "metadata": {},
   "outputs": [],
   "source": [
    "%%bash\n",
    "printf \"\\nCopy and run the deploy script generated below:\\n\"\n",
    "cd scripts\n",
    "./prepare_deploy_api.sh   "
   ]
  },
  {
   "cell_type": "markdown",
   "metadata": {},
   "source": [
    "\n",
    "2. Run the endpoints deploy command output above:"
   ]
  },
  {
   "cell_type": "code",
   "execution_count": null,
   "metadata": {},
   "outputs": [],
   "source": [
    "\n",
    "%%bash\n",
    "gcloud endpoints services deploy [REPLACE_WITH_TEMP_FILE_NAME.yaml]"
   ]
  },
  {
   "cell_type": "code",
   "execution_count": null,
   "metadata": {},
   "outputs": [],
   "source": [
    "\n",
    "%%bash\n",
    "# view the app deployment script\n",
    "cat scripts/prepare_deploy_app.sh"
   ]
  },
  {
   "cell_type": "code",
   "execution_count": null,
   "metadata": {},
   "outputs": [],
   "source": [
    "\n",
    "%%bash\n",
    "# prepare to deploy \n",
    "cd scripts\n",
    "\n",
    "./prepare_deploy_app.sh"
   ]
  },
  {
   "cell_type": "markdown",
   "metadata": {},
   "source": [
    "\n",
    "4. Run the command above:"
   ]
  },
  {
   "cell_type": "code",
   "execution_count": null,
   "metadata": {},
   "outputs": [],
   "source": [
    "%%bash\n",
    "gcloud -q app deploy app/app_template.yaml_deploy.yaml"
   ]
  },
  {
   "cell_type": "markdown",
   "metadata": {},
   "source": [
    "### Query the API for Article Recommendations"
   ]
  },
  {
   "cell_type": "code",
   "execution_count": null,
   "metadata": {},
   "outputs": [],
   "source": [
    "\n",
    "%%bash\n",
    "cd scripts\n",
    "./query_api.sh          # Query the API.\n",
    "#./generate_traffic.sh   # Send traffic to the API."
   ]
  },
  {
   "cell_type": "code",
   "execution_count": null,
   "metadata": {},
   "outputs": [],
   "source": [
    "\n",
    "AIRFLOW_BUCKET = 'us-central1-composer-21587538-bucket' # REPLACE WITH AIRFLOW BUCKET NAME\n",
    "os.environ['AIRFLOW_BUCKET'] = AIRFLOW_BUCKET"
   ]
  },
  {
   "cell_type": "code",
   "execution_count": null,
   "metadata": {},
   "outputs": [],
   "source": [
    "%%writefile airflow/dags/training.py\n",
    "\n",
    "import airflow\n",
    "from airflow import DAG\n",
    "\n",
    "# Reference for all available airflow operators: \n",
    "# https://github.com/apache/incubator-airflow/tree/master/airflow/contrib/operators\n",
    "from airflow.contrib.operators.bigquery_operator import BigQueryOperator\n",
    "from airflow.contrib.operators.bigquery_to_gcs import BigQueryToCloudStorageOperator\n",
    "from airflow.hooks.base_hook import BaseHook\n",
    "# from airflow.contrib.operators.mlengine_operator import MLEngineTrainingOperator\n",
    "# above mlengine_operator currently doesnt support custom MasterType so we import our own plugins:\n",
    "\n",
    "# custom plugins\n",
    "from airflow.operators.app_engine_admin_plugin import AppEngineVersionOperator\n",
    "from airflow.operators.ml_engine_plugin import MLEngineTrainingOperator\n",
    "\n",
    "\n",
    "import datetime\n",
    "\n",
    "def _get_project_id():\n",
    "  \"\"\"Get project ID from default GCP connection.\"\"\"\n",
    "\n",
    "  extras = BaseHook.get_connection('google_cloud_default').extra_dejson\n",
    "  key = 'extra__google_cloud_platform__project'\n",
    "  if key in extras:\n",
    "    project_id = extras[key]\n",
    "  else:\n",
    "    raise ('Must configure project_id in google_cloud_default '\n",
    "           'connection from Airflow Console')\n",
    "  return project_id\n",
    "\n",
    "PROJECT_ID = _get_project_id()\n",
    "\n",
    "\n",
    "DATASET = 'GA360_test'\n",
    "TABLE_NAME = 'ga_sessions_sample'\n",
    "ARTICLE_CUSTOM_DIMENSION = '10'\n",
    "\n",
    "BUCKET = 'gs://recserve_' + PROJECT_ID\n",
    "REGION = 'us-east1'\n",
    "\n",
    "PACKAGE_URI = BUCKET + '/code/wals_ml_engine-0.1.tar.gz'\n",
    "JOB_DIR = BUCKET + '/jobs'\n",
    "\n",
    "default_args = {\n",
    "    'owner': 'airflow',\n",
    "    'depends_on_past': False,\n",
    "    'start_date': airflow.utils.dates.days_ago(2),\n",
    "    'email': ['airflow@example.com'],\n",
    "    'email_on_failure': True,\n",
    "    'email_on_retry': False,\n",
    "    'retries': 5,\n",
    "    'retry_delay': datetime.timedelta(minutes=5)\n",
    "}\n",
    "\n",
    "\n",
    "\n",
    "schedule_interval = '00 21 * * *'\n",
    "\n",
    "dag = DAG('recommendations_training_v1', \n",
    "          default_args=default_args,\n",
    "          schedule_interval=schedule_interval)\n",
    "\n",
    "dag.doc_md = __doc__\n",
    "\n",
    "\n",
    "bql='''\n",
    "#legacySql\n",
    "SELECT\n",
    " fullVisitorId as clientId,\n",
    " ArticleID as contentId,\n",
    " (nextTime - hits.time) as timeOnPage,\n",
    "FROM(\n",
    "  SELECT\n",
    "    fullVisitorId,\n",
    "    hits.time,\n",
    "    MAX(IF(hits.customDimensions.index={0},\n",
    "           hits.customDimensions.value,NULL)) WITHIN hits AS ArticleID,\n",
    "    LEAD(hits.time, 1) OVER (PARTITION BY fullVisitorId, visitNumber\n",
    "                             ORDER BY hits.time ASC) as nextTime\n",
    "  FROM [{1}.{2}.{3}]\n",
    "  WHERE hits.type = \"PAGE\"\n",
    ") HAVING timeOnPage is not null and contentId is not null;\n",
    "'''\n",
    "\n",
    "bql = bql.format(ARTICLE_CUSTOM_DIMENSION, PROJECT_ID, DATASET, TABLE_NAME)\n",
    "\n",
    "t1 = BigQueryOperator(\n",
    "    task_id='bq_rec_training_data',\n",
    "    bql=bql,\n",
    "    destination_dataset_table='%s.recommendation_events' % DATASET,\n",
    "    write_disposition='WRITE_TRUNCATE', # specify to truncate on writes\n",
    "    dag=dag)\n",
    "\n",
    "\n",
    "training_file = BUCKET + '/data/recommendation_events.csv'\n",
    "t2 = BigQueryToCloudStorageOperator(\n",
    "    task_id='bq_export_op',\n",
    "    source_project_dataset_table='%s.recommendation_events' % DATASET,\n",
    "    destination_cloud_storage_uris=[training_file],\n",
    "    export_format='CSV',\n",
    "    dag=dag\n",
    ")\n",
    "\n",
    "\n",
    "\n",
    "job_id = 'recserve_{0}'.format(datetime.datetime.now().strftime('%Y%m%d%H%M'))\n",
    "job_dir = BUCKET + '/jobs/' + job_id\n",
    "output_dir = BUCKET\n",
    "training_args = ['--job-dir', job_dir,\n",
    "                 '--train-files', training_file,\n",
    "                 '--output-dir', output_dir,\n",
    "                 '--data-type', 'web_views',\n",
    "                 '--use-optimized']\n",
    "\n",
    "\n",
    "t3 = MLEngineTrainingOperator(\n",
    "    task_id='ml_engine_training_op',\n",
    "    project_id=PROJECT_ID,\n",
    "    job_id=job_id,\n",
    "    package_uris=[PACKAGE_URI],\n",
    "    training_python_module='trainer.task',\n",
    "    training_args=training_args,\n",
    "    region=REGION,\n",
    "    scale_tier='CUSTOM',\n",
    "    master_type='complex_model_m_gpu',\n",
    "    dag=dag\n",
    ")\n",
    "\n",
    "# App Engine deploy new version\n",
    "\n",
    "t4 = AppEngineVersionOperator(\n",
    "    task_id='app_engine_deploy_version',\n",
    "    project_id=PROJECT_ID,\n",
    "    service_id='default',\n",
    "    region=REGION,\n",
    "    service_spec=None,\n",
    "    dag=dag\n",
    ")\n",
    "\n",
    "t2.set_upstream(t1)\n",
    "t3.set_upstream(t2)\n",
    "t4.set_upstream(t3)"
   ]
  },
  {
   "cell_type": "code",
   "execution_count": null,
   "metadata": {},
   "outputs": [],
   "source": [
    "%%bash\n",
    "gsutil cp airflow/dags/training.py gs://${AIRFLOW_BUCKET}/dags # overwrite if it exists\n",
    "gsutil cp -r airflow/plugins gs://${AIRFLOW_BUCKET} # copy custom plugins"
   ]
  },
  {
   "cell_type": "code",
   "execution_count": 1,
   "metadata": {},
   "outputs": [],
   "source": [
    "# now we can see in the Airflow dag and ensure our DAG runs successfully"
   ]
  },
  {
   "cell_type": "code",
   "execution_count": null,
   "metadata": {},
   "outputs": [],
   "source": []
  }
 ],
 "metadata": {
  "kernelspec": {
   "display_name": "Python 3",
   "language": "python",
   "name": "python3"
  },
  "language_info": {
   "codemirror_mode": {
    "name": "ipython",
    "version": 2
   },
   "file_extension": ".py",
   "mimetype": "text/x-python",
   "name": "python",
   "nbconvert_exporter": "python",
   "pygments_lexer": "ipython2",
   "version": "2.7.17"
  }
 },
 "nbformat": 4,
 "nbformat_minor": 2
}
